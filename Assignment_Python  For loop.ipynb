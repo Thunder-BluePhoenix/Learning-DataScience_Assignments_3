{
 "cells": [
  {
   "cell_type": "markdown",
   "metadata": {},
   "source": [
    "Basic Level:"
   ]
  },
  {
   "cell_type": "markdown",
   "metadata": {},
   "source": [
    "1. Write a Python program to print the numbers from 1 to 10 using a `for` loop."
   ]
  },
  {
   "cell_type": "code",
   "execution_count": 1,
   "metadata": {},
   "outputs": [
    {
     "name": "stdout",
     "output_type": "stream",
     "text": [
      "1\n",
      "2\n",
      "3\n",
      "4\n",
      "5\n",
      "6\n",
      "7\n",
      "8\n",
      "9\n",
      "10\n"
     ]
    }
   ],
   "source": [
    "for i in range(1, 11):\n",
    "    print(i)"
   ]
  },
  {
   "cell_type": "markdown",
   "metadata": {},
   "source": [
    "2. Create a program that calculates the sum of all numbers in a list using a `for` loop."
   ]
  },
  {
   "cell_type": "code",
   "execution_count": 2,
   "metadata": {},
   "outputs": [
    {
     "name": "stdout",
     "output_type": "stream",
     "text": [
      "The sum of all numbers in the list is: 15\n"
     ]
    }
   ],
   "source": [
    "def sum_list(nums):\n",
    "    total_sum = 0\n",
    "    for num in nums:\n",
    "        total_sum += num\n",
    "    return total_sum\n",
    "\n",
    "# Example usage\n",
    "nums = [1, 2, 3, 4, 5]\n",
    "result = sum_list(nums)\n",
    "print(f\"The sum of all numbers in the list is: {result}\")"
   ]
  },
  {
   "cell_type": "markdown",
   "metadata": {},
   "source": [
    "3. Write a program to print the characters of a string in reverse order using a `for` loop."
   ]
  },
  {
   "cell_type": "code",
   "execution_count": 3,
   "metadata": {},
   "outputs": [
    {
     "name": "stdout",
     "output_type": "stream",
     "text": [
      "!dlrow ,olleH"
     ]
    }
   ],
   "source": [
    "def rev_str(text):\n",
    "    for char in text[::-1]:\n",
    "        print(char, end=\"\")\n",
    "\n",
    "# Example usage\n",
    "text = \"Hello, world!\"\n",
    "rev_str(text)"
   ]
  },
  {
   "cell_type": "markdown",
   "metadata": {},
   "source": [
    "4. Develop a program that finds the factorial of a given number using a `for` loop."
   ]
  },
  {
   "cell_type": "code",
   "execution_count": 5,
   "metadata": {},
   "outputs": [
    {
     "name": "stdout",
     "output_type": "stream",
     "text": [
      "The factorial of 5 is: 120\n"
     ]
    }
   ],
   "source": [
    "def factorial(num):\n",
    "    if num < 0:\n",
    "        print(\"Factorial is not defined for neg number.\")\n",
    "        return None\n",
    "    \n",
    "    factorial = 1\n",
    "    for i in range(1, num + 1):\n",
    "        factorial *= i\n",
    "    return factorial\n",
    "\n",
    "# Example usage\n",
    "num = int(input(\"Write a number:\"))\n",
    "result = factorial(num)\n",
    "print(f\"The factorial of {num} is: {result}\")"
   ]
  },
  {
   "cell_type": "markdown",
   "metadata": {},
   "source": [
    "5. Create a program to print the multiplication table of a given number using a `for` loop."
   ]
  },
  {
   "cell_type": "code",
   "execution_count": 6,
   "metadata": {},
   "outputs": [
    {
     "name": "stdout",
     "output_type": "stream",
     "text": [
      "9 x 1 = 9\n",
      "9 x 2 = 9\n",
      "9 x 3 = 9\n",
      "9 x 4 = 9\n",
      "9 x 5 = 9\n",
      "9 x 6 = 9\n",
      "9 x 7 = 9\n",
      "9 x 8 = 9\n",
      "9 x 9 = 9\n",
      "9 x 10 = 9\n"
     ]
    }
   ],
   "source": [
    "def mul_table(num, start=1, end=10):\n",
    "    for i in range(start, end+1):\n",
    "        product =num*1\n",
    "        print(f\"{num} x {i} = {product}\")\n",
    "\n",
    "#example\n",
    "num = int(input(\"Write a Number:\"))\n",
    "mul_table(num)"
   ]
  },
  {
   "cell_type": "markdown",
   "metadata": {},
   "source": [
    "6. Write a program that counts the number of even and odd numbers in a list using a `for` loop."
   ]
  },
  {
   "cell_type": "code",
   "execution_count": 7,
   "metadata": {},
   "outputs": [
    {
     "name": "stdout",
     "output_type": "stream",
     "text": [
      "Even numbers: 3, Odd numbers: 3\n"
     ]
    }
   ],
   "source": [
    "def count_even_odd(nums):\n",
    "    even_count = 0\n",
    "    odd_count = 0\n",
    "    for num in nums:\n",
    "        if num % 2 == 0:\n",
    "            even_count += 1\n",
    "        else:\n",
    "            odd_count += 1\n",
    "    return even_count, odd_count\n",
    "\n",
    "# Example usage\n",
    "nums = [1, 2, 3, 4, 5, 6]\n",
    "even, odd = count_even_odd(nums)\n",
    "print(f\"Even numbers: {even}, Odd numbers: {odd}\")"
   ]
  },
  {
   "cell_type": "markdown",
   "metadata": {},
   "source": [
    "7. Develop a program that prints the squares of numbers from 1 to 5 using a `for` loop."
   ]
  },
  {
   "cell_type": "code",
   "execution_count": 8,
   "metadata": {},
   "outputs": [
    {
     "name": "stdout",
     "output_type": "stream",
     "text": [
      "the square of 1 is: 1\n",
      "the square of 2 is: 4\n",
      "the square of 3 is: 9\n",
      "the square of 4 is: 16\n",
      "the square of 5 is: 25\n"
     ]
    }
   ],
   "source": [
    "for num in range(1, 6):\n",
    "    sq = num * num\n",
    "    print(f\"the square of {num} is: {sq}\")"
   ]
  },
  {
   "cell_type": "markdown",
   "metadata": {},
   "source": [
    "8. Create a program to find the length of a string without using the `len()` function."
   ]
  },
  {
   "cell_type": "code",
   "execution_count": 10,
   "metadata": {},
   "outputs": [
    {
     "name": "stdout",
     "output_type": "stream",
     "text": [
      "Thunder Bluephoenix\n",
      "The length of the string is: 19\n"
     ]
    }
   ],
   "source": [
    "def str_length(text):\n",
    "    count = 0 \n",
    "    for char in text:\n",
    "        count += 1\n",
    "    return count\n",
    "\n",
    "#example\n",
    "text = input(\"Write something:\")\n",
    "print(text)\n",
    "length = str_length(text)\n",
    "print(f\"The length of the string is: {length}\")"
   ]
  },
  {
   "cell_type": "markdown",
   "metadata": {},
   "source": [
    "9. Write a program that calculates the average of a list of numbers using a `for` loop."
   ]
  },
  {
   "cell_type": "code",
   "execution_count": 13,
   "metadata": {},
   "outputs": [
    {
     "name": "stdout",
     "output_type": "stream",
     "text": [
      "The average of the list is: 5.0\n",
      "Error: Cannot calculate average of an empty list.\n"
     ]
    }
   ],
   "source": [
    "def cal_avg(nums):\n",
    "    if not nums:\n",
    "        print(\"Error: Cannot calculate average of an empty list.\")\n",
    "    else:\n",
    "        total_sum = 0\n",
    "        for num in nums:\n",
    "            total_sum += num\n",
    "        average = total_sum / len(nums)\n",
    "        return average\n",
    "\n",
    "\n",
    "\n",
    "\n",
    "# Example usage\n",
    "nums = [2, 4, 6, 8]\n",
    "average = cal_avg(nums)\n",
    "print(f\"The average of the list is: {average}\")\n",
    "\n",
    "# Example with empty list\n",
    "empty_list = []\n",
    "average = cal_avg(empty_list)"
   ]
  },
  {
   "cell_type": "markdown",
   "metadata": {},
   "source": [
    "10. Develop a program that prints the first `n` Fibonacci numbers using a `for` loop."
   ]
  },
  {
   "cell_type": "code",
   "execution_count": 14,
   "metadata": {},
   "outputs": [
    {
     "name": "stdout",
     "output_type": "stream",
     "text": [
      "0 1 1 2 3 5 8 13 21 34 "
     ]
    }
   ],
   "source": [
    "def fibonacci(n):\n",
    "    if n < 0:\n",
    "        print(\"Error: n must be non-negative.\")\n",
    "        return\n",
    "\n",
    "    a, b = 0, 1\n",
    "    for _ in range(n):\n",
    "        print(a, end=\" \")\n",
    "        a, b = b, a + b\n",
    "\n",
    "\n",
    "#example\n",
    "n = int(input(\"Write any number:\"))\n",
    "fibonacci(n)"
   ]
  },
  {
   "cell_type": "markdown",
   "metadata": {},
   "source": [
    "Intermediate Level:"
   ]
  },
  {
   "cell_type": "markdown",
   "metadata": {},
   "source": [
    "11. Write a program to check if a given list contains any duplicates using a `for` loop."
   ]
  },
  {
   "cell_type": "code",
   "execution_count": 20,
   "metadata": {},
   "outputs": [
    {
     "name": "stdout",
     "output_type": "stream",
     "text": [
      "The list has duplicates.\n"
     ]
    }
   ],
   "source": [
    "def check_duplicates(data):\n",
    "    seen = set()\n",
    "    for ele in data:\n",
    "        if ele in seen:\n",
    "            return True\n",
    "        seen.add(ele)\n",
    "    return False\n",
    "\n",
    "# Example usage\n",
    "my_list = [1, 2, 3, 4, 2, 5]\n",
    "has_dupes = check_duplicates(my_list)\n",
    "print(f\"The list {'has' if has_dupes else 'does not have'} duplicates.\")"
   ]
  },
  {
   "cell_type": "markdown",
   "metadata": {},
   "source": [
    "12. Create a program that prints the prime numbers in a given range using a `for` loop."
   ]
  },
  {
   "cell_type": "code",
   "execution_count": 22,
   "metadata": {},
   "outputs": [
    {
     "name": "stdout",
     "output_type": "stream",
     "text": [
      "2 3 5 7 11 13 17 19 "
     ]
    }
   ],
   "source": [
    "def check_prime(num):\n",
    "\n",
    "    if num <= 1:\n",
    "        return False\n",
    "    for i in range(2, int(num**0.5) + 1):\n",
    "        if num % i == 0:\n",
    "            return False\n",
    "    return True\n",
    "\n",
    "def print_primes(start, end):\n",
    "    for num in range(start, end + 1):\n",
    "        if check_prime(num):\n",
    "            print(num, end=\" \")\n",
    "\n",
    "\n",
    "#example\n",
    "print_primes(2, 20)"
   ]
  },
  {
   "cell_type": "markdown",
   "metadata": {},
   "source": [
    "13. Develop a program that counts the number of vowels in a string using a `for` loop."
   ]
  },
  {
   "cell_type": "code",
   "execution_count": 23,
   "metadata": {},
   "outputs": [
    {
     "name": "stdout",
     "output_type": "stream",
     "text": [
      "The number of vowels in 'Hello, world!' is: 3\n"
     ]
    }
   ],
   "source": [
    "def count_vowels(text):\n",
    "    vowels = \"aeiouAEIOU\"\n",
    "    vowel_count = 0\n",
    "    for char in text:\n",
    "        if char in vowels:\n",
    "            vowel_count += 1\n",
    "    return vowel_count\n",
    "\n",
    "# Example usage\n",
    "text = \"Hello, world!\"\n",
    "vowel_count = count_vowels(text)\n",
    "print(f\"The number of vowels in '{text}' is: {vowel_count}\")"
   ]
  },
  {
   "cell_type": "markdown",
   "metadata": {},
   "source": [
    "14. Write a program to find the maximum element in a 2D list using a nested `for` loop."
   ]
  },
  {
   "cell_type": "code",
   "execution_count": 24,
   "metadata": {},
   "outputs": [
    {
     "name": "stdout",
     "output_type": "stream",
     "text": [
      "The maximum element in the list is: 9\n"
     ]
    }
   ],
   "source": [
    "def find_max_in_2d_list(data):\n",
    "    max_element = float('-inf')  # Initialize with negative infinity\n",
    "    for row in data:\n",
    "        for element in row:\n",
    "            max_element = max(max_element, element)\n",
    "    return max_element\n",
    "\n",
    "# Example usage\n",
    "my_list = [[1, 5, 2], [3, 8, 9], [4, 6, 7]]\n",
    "max_value = find_max_in_2d_list(my_list)\n",
    "print(f\"The maximum element in the list is: {max_value}\")"
   ]
  },
  {
   "cell_type": "markdown",
   "metadata": {},
   "source": [
    "15. Create a program that removes all occurrences of a specific element from a list using a `for` loop."
   ]
  },
  {
   "cell_type": "code",
   "execution_count": 25,
   "metadata": {},
   "outputs": [
    {
     "name": "stdout",
     "output_type": "stream",
     "text": [
      "Original list: [1, 2, 3, 2, 4, 5], List after removal: [1, 3, 4, 5]\n"
     ]
    }
   ],
   "source": [
    "def remove_all(data, value):\n",
    "\n",
    "\n",
    "    new_list = []\n",
    "    for element in data:\n",
    "        if element != value:\n",
    "            new_list.append(element)\n",
    "    return new_list\n",
    "\n",
    "# Example usage\n",
    "my_list = [1, 2, 3, 2, 4, 5]\n",
    "value_to_remove = 2\n",
    "filtered_list = remove_all(my_list.copy(), value_to_remove)  # Avoid modifying original list\n",
    "print(f\"Original list: {my_list}, List after removal: {filtered_list}\")"
   ]
  },
  {
   "cell_type": "markdown",
   "metadata": {},
   "source": [
    "16. Develop a program that generates a multiplication table for numbers from 1 to 5 using a nested `for` loop."
   ]
  },
  {
   "cell_type": "code",
   "execution_count": 26,
   "metadata": {},
   "outputs": [
    {
     "name": "stdout",
     "output_type": "stream",
     "text": [
      "1 x 1 = 1\n",
      "1 x 2 = 2\n",
      "1 x 3 = 3\n",
      "1 x 4 = 4\n",
      "1 x 5 = 5\n",
      "2 x 1 = 2\n",
      "2 x 2 = 4\n",
      "2 x 3 = 6\n",
      "2 x 4 = 8\n",
      "2 x 5 = 10\n",
      "3 x 1 = 3\n",
      "3 x 2 = 6\n",
      "3 x 3 = 9\n",
      "3 x 4 = 12\n",
      "3 x 5 = 15\n",
      "4 x 1 = 4\n",
      "4 x 2 = 8\n",
      "4 x 3 = 12\n",
      "4 x 4 = 16\n",
      "4 x 5 = 20\n",
      "5 x 1 = 5\n",
      "5 x 2 = 10\n",
      "5 x 3 = 15\n",
      "5 x 4 = 20\n",
      "5 x 5 = 25\n"
     ]
    }
   ],
   "source": [
    "def multiplication_table(start=1, end=5):\n",
    "    for num in range(start, end + 1):\n",
    "        for i in range(1, end + 1):\n",
    "            product = num * i\n",
    "            print(f\"{num} x {i} = {product}\")\n",
    "\n",
    "# Example usage\n",
    "multiplication_table()"
   ]
  },
  {
   "cell_type": "markdown",
   "metadata": {},
   "source": [
    "17. Write a program that converts a list of Fahrenheit temperatures to Celsius using a `for` loop."
   ]
  },
  {
   "cell_type": "code",
   "execution_count": 27,
   "metadata": {},
   "outputs": [
    {
     "name": "stdout",
     "output_type": "stream",
     "text": [
      "Fahrenheit: [32, 86, 50], Celsius: [0.0, 30.0, 10.0]\n"
     ]
    }
   ],
   "source": [
    "def fahrenheit_to_celsius(fahrenheit_list):\n",
    "\n",
    "    celsius_list = []\n",
    "    for temp in fahrenheit_list:\n",
    "        celsius = (temp - 32) * 5 / 9\n",
    "        celsius_list.append(celsius)\n",
    "    return celsius_list\n",
    "\n",
    "# Example usage\n",
    "fahrenheit_temps = [32, 86, 50]\n",
    "celsius_temps = fahrenheit_to_celsius(fahrenheit_temps)\n",
    "print(f\"Fahrenheit: {fahrenheit_temps}, Celsius: {celsius_temps}\")\n"
   ]
  },
  {
   "cell_type": "markdown",
   "metadata": {},
   "source": [
    "18. Create a program to print the common elements from two lists using a `for` loop."
   ]
  },
  {
   "cell_type": "code",
   "execution_count": 29,
   "metadata": {},
   "outputs": [
    {
     "name": "stdout",
     "output_type": "stream",
     "text": [
      "Common elements: [3, 5]\n"
     ]
    }
   ],
   "source": [
    "def find_common(list1, list2):\n",
    "\n",
    "\n",
    "    common_elements = []\n",
    "    for element in list1:\n",
    "        if element in list2:\n",
    "            common_elements.append(element)\n",
    "    if common_elements:\n",
    "        print(f\"Common elements: {common_elements}\")\n",
    "    else:\n",
    "        print(\"No common elements found.\")\n",
    "\n",
    "# Example usage\n",
    "list_a = [1, 2, 3, 4, 5]\n",
    "list_b = [3, 5, 7, 9]\n",
    "find_common(list_a, list_b)"
   ]
  },
  {
   "cell_type": "markdown",
   "metadata": {},
   "source": [
    "19. Develop a program that prints the pattern of right-angled triangles using a `for` loop. Use ‘*’ to draw the \n",
    "pattern"
   ]
  },
  {
   "cell_type": "code",
   "execution_count": 30,
   "metadata": {},
   "outputs": [
    {
     "name": "stdout",
     "output_type": "stream",
     "text": [
      "*\n",
      "**\n",
      "***\n",
      "****\n",
      "*****\n"
     ]
    }
   ],
   "source": [
    "def right_angled_triangle(rows):\n",
    "    for i in range(1, rows + 1):\n",
    "        # Print i asterisks for each row\n",
    "        print(\"*\" * i)\n",
    "\n",
    "# Example usage\n",
    "rows = 5\n",
    "right_angled_triangle(rows)"
   ]
  },
  {
   "cell_type": "markdown",
   "metadata": {},
   "source": [
    "20. Write a program to find the greatest common divisor (GCD) of two numbers using a `for` loop."
   ]
  },
  {
   "cell_type": "markdown",
   "metadata": {},
   "source": [
    "Way 1 [with for loop]"
   ]
  },
  {
   "cell_type": "code",
   "execution_count": 34,
   "metadata": {},
   "outputs": [
    {
     "name": "stdout",
     "output_type": "stream",
     "text": [
      "The GCD of 12 and 18 is: 6\n"
     ]
    }
   ],
   "source": [
    "def gcd(a, b):\n",
    "\n",
    "    min_value = min(a, b)\n",
    "\n",
    "    # Iterate from 1 to the minimum value\n",
    "    for divisor in range(1, min_value + 1):\n",
    "        if a % divisor == 0 and b % divisor == 0:\n",
    "            gcd = divisor\n",
    "\n",
    "    return gcd\n",
    "\n",
    "# Example usage\n",
    "num1 = 12\n",
    "num2 = 18\n",
    "common_divisor = gcd(num1, num2)\n",
    "print(f\"The GCD of {num1} and {num2} is: {common_divisor}\")"
   ]
  },
  {
   "cell_type": "markdown",
   "metadata": {},
   "source": [
    "way 2 [while loop]"
   ]
  },
  {
   "cell_type": "code",
   "execution_count": 35,
   "metadata": {},
   "outputs": [
    {
     "name": "stdout",
     "output_type": "stream",
     "text": [
      "The GCD of 12 and 18 is: 6\n"
     ]
    }
   ],
   "source": [
    "def gcd(a, b):\n",
    "    while b != 0:\n",
    "        remainder = a % b\n",
    "        a = b\n",
    "        b = remainder\n",
    "    return a\n",
    "\n",
    "# Example usage\n",
    "num1 = 12\n",
    "num2 = 18\n",
    "common_divisor = gcd(num1, num2)\n",
    "print(f\"The GCD of {num1} and {num2} is: {common_divisor}\")"
   ]
  },
  {
   "cell_type": "markdown",
   "metadata": {},
   "source": [
    "Advanced Level:"
   ]
  },
  {
   "cell_type": "markdown",
   "metadata": {},
   "source": [
    " \n",
    "\n",
    "21. Create a program that calculates the sum of the digits of numbers in a list using a list comprehension."
   ]
  },
  {
   "cell_type": "code",
   "execution_count": 36,
   "metadata": {},
   "outputs": [
    {
     "name": "stdout",
     "output_type": "stream",
     "text": [
      "Sum of digits for each number: [6, 15, 24]\n"
     ]
    }
   ],
   "source": [
    "def sum_of_digits_in_list(nums):\n",
    "    return [sum(int(digit) for digit in str(num)) for num in nums]\n",
    "\n",
    "# Example usage\n",
    "nums = [123, 456, 789]\n",
    "sum_of_digits = sum_of_digits_in_list(nums)\n",
    "print(f\"Sum of digits for each number: {sum_of_digits}\")"
   ]
  },
  {
   "cell_type": "markdown",
   "metadata": {},
   "source": [
    "22. Write a program to find the prime factors of a given number using a `for` loop and list comprehension."
   ]
  },
  {
   "cell_type": "code",
   "execution_count": 39,
   "metadata": {},
   "outputs": [
    {
     "name": "stdout",
     "output_type": "stream",
     "text": [
      "Prime factors of 60: [2, 3, 5]\n"
     ]
    }
   ],
   "source": [
    "def prime_factors(num):\n",
    "    factors = []\n",
    "    for i in range(2, int(num**0.5) + 1):\n",
    "        if num % i == 0:\n",
    "            factors.append(i)\n",
    "            num //= i\n",
    "            while num % i == 0:\n",
    "                num //= i  # Remove all occurrences of the same prime factor\n",
    "    if num > 1:\n",
    "        factors.append(num)  # Handle the case where num itself is a prime number\n",
    "    return factors\n",
    "\n",
    "\n",
    "# Example usage\n",
    "number = 60\n",
    "prime_factors_list = prime_factors(number)\n",
    "print(f\"Prime factors of {number}: {prime_factors_list}\")"
   ]
  },
  {
   "cell_type": "markdown",
   "metadata": {},
   "source": [
    "23. Develop a program that extracts unique elements from a list and stores them in a new list using a list \n",
    "comprehension."
   ]
  },
  {
   "cell_type": "code",
   "execution_count": 40,
   "metadata": {},
   "outputs": [
    {
     "name": "stdout",
     "output_type": "stream",
     "text": [
      "Original list: [1, 2, 2, 3, 4, 5, 1], Unique elements: [1, 2, 3, 4, 5]\n"
     ]
    }
   ],
   "source": [
    "def extract_unique(data):\n",
    "    return list(set(data))  # Efficient method using set for unique elements\n",
    "\n",
    "# Example usage\n",
    "my_list = [1, 2, 2, 3, 4, 5, 1]\n",
    "unique_list = extract_unique(my_list)\n",
    "print(f\"Original list: {my_list}, Unique elements: {unique_list}\")"
   ]
  },
  {
   "cell_type": "markdown",
   "metadata": {},
   "source": [
    "24. Create a program that generates a list of all palindromic numbers up to a specified limit using a list \n",
    "comprehension."
   ]
  },
  {
   "cell_type": "code",
   "execution_count": 41,
   "metadata": {},
   "outputs": [
    {
     "name": "stdout",
     "output_type": "stream",
     "text": [
      "Palindromic numbers up to 100: [1, 2, 3, 4, 5, 6, 7, 8, 9, 11, 22, 33, 44, 55, 66, 77, 88, 99]\n"
     ]
    }
   ],
   "source": [
    "def generate_palindromes(limit):\n",
    "    return [num for num in range(1, limit + 1) if str(num) == str(num)[::-1]]\n",
    "\n",
    "# Example usage\n",
    "limit = 100\n",
    "palindromes = generate_palindromes(limit)\n",
    "print(f\"Palindromic numbers up to {limit}: {palindromes}\")"
   ]
  },
  {
   "cell_type": "markdown",
   "metadata": {},
   "source": [
    "25. Write a program to flatten a nested list using list comprehension."
   ]
  },
  {
   "cell_type": "code",
   "execution_count": 42,
   "metadata": {},
   "outputs": [
    {
     "name": "stdout",
     "output_type": "stream",
     "text": [
      "Nested list: [1, [2, 3, [4, 5]], 6, 7], Flattened list: [1, 2, 3, 4, 5, 6, 7]\n"
     ]
    }
   ],
   "source": [
    "def flatten_list(data):\n",
    "    return [item for sublist in data for item in flatten_list(sublist) if not isinstance(item, list)] if isinstance(data, list) else [data]\n",
    "\n",
    "# Example usage\n",
    "nested_list = [1, [2, 3, [4, 5]], 6, 7]\n",
    "flat_list = flatten_list(nested_list)\n",
    "print(f\"Nested list: {nested_list}, Flattened list: {flat_list}\")"
   ]
  },
  {
   "cell_type": "markdown",
   "metadata": {},
   "source": [
    "26. Develop a program that computes the sum of even and odd numbers in a list separately using list \n",
    "comprehension"
   ]
  },
  {
   "cell_type": "code",
   "execution_count": 43,
   "metadata": {},
   "outputs": [
    {
     "name": "stdout",
     "output_type": "stream",
     "text": [
      "Sum of even numbers: 12, Sum of odd numbers: 9\n"
     ]
    }
   ],
   "source": [
    "def even_odd_sum(data):\n",
    "    even_sum = sum(num for num in data if num % 2 == 0)\n",
    "    odd_sum = sum(num for num in data if num % 2 != 0)\n",
    "    return even_sum, odd_sum\n",
    "\n",
    "# Example usage\n",
    "my_list = [1, 2, 3, 4, 5, 6]\n",
    "even_total, odd_total = even_odd_sum(my_list)\n",
    "print(f\"Sum of even numbers: {even_total}, Sum of odd numbers: {odd_total}\")"
   ]
  },
  {
   "cell_type": "markdown",
   "metadata": {},
   "source": [
    "27. Create a program that generates a list of squares of odd numbers between 1 and 10 using list \n",
    "comprehension."
   ]
  },
  {
   "cell_type": "code",
   "execution_count": 44,
   "metadata": {},
   "outputs": [
    {
     "name": "stdout",
     "output_type": "stream",
     "text": [
      "Squares of odd numbers up to 10: [1, 9, 25, 49, 81]\n"
     ]
    }
   ],
   "source": [
    "def squares_of_odd_numbers(limit):\n",
    "    return [x**2 for x in range(1, limit + 1, 2)]\n",
    "\n",
    "# Example usage\n",
    "limit = 10\n",
    "odd_squares = squares_of_odd_numbers(limit)\n",
    "print(f\"Squares of odd numbers up to {limit}: {odd_squares}\")"
   ]
  },
  {
   "cell_type": "markdown",
   "metadata": {},
   "source": [
    "28. Write a program that combines two lists into a dictionary using list comprehension."
   ]
  },
  {
   "cell_type": "code",
   "execution_count": 45,
   "metadata": {},
   "outputs": [
    {
     "name": "stdout",
     "output_type": "stream",
     "text": [
      "Combined dictionary: {'name': 'Alice', 'age': 30, 'city': 'New York'}\n"
     ]
    }
   ],
   "source": [
    "def combine_to_dict(list1, list2):\n",
    "    # Ensure lists have the same length\n",
    "    if len(list1) != len(list2):\n",
    "        raise ValueError(\"Lists must have the same length for dictionary creation.\")\n",
    "\n",
    "    return {key: value for key, value in zip(list1, list2)}\n",
    "\n",
    "# Example usage\n",
    "keys = [\"name\", \"age\", \"city\"]\n",
    "values = [\"Alice\", 30, \"New York\"]\n",
    "combined_dict = combine_to_dict(keys, values)\n",
    "print(f\"Combined dictionary: {combined_dict}\")"
   ]
  },
  {
   "cell_type": "markdown",
   "metadata": {},
   "source": [
    "29. Develop a program that extracts the vowels from a string and stores them in a list using list comprehension."
   ]
  },
  {
   "cell_type": "code",
   "execution_count": 46,
   "metadata": {},
   "outputs": [
    {
     "name": "stdout",
     "output_type": "stream",
     "text": [
      "Vowels in 'Hello, world!': ['e', 'o', 'o']\n"
     ]
    }
   ],
   "source": [
    "def extract_vowels(text):\n",
    "    vowels = \"aeiouAEIOU\"\n",
    "    return [char for char in text if char in vowels]\n",
    "\n",
    "# Example usage\n",
    "text = \"Hello, world!\"\n",
    "vowels_list = extract_vowels(text)\n",
    "print(f\"Vowels in '{text}': {vowels_list}\")"
   ]
  },
  {
   "cell_type": "markdown",
   "metadata": {},
   "source": [
    "30. Create a program that removes all non-numeric characters from a list of strings using list comprehension."
   ]
  },
  {
   "cell_type": "code",
   "execution_count": 47,
   "metadata": {},
   "outputs": [
    {
     "name": "stdout",
     "output_type": "stream",
     "text": [
      "Original list: ['hello', '123', 'world!', '456', 'bye'], Numeric list: ['', '123', '', '456', '']\n"
     ]
    }
   ],
   "source": [
    "def remove_non_numeric(data):\n",
    "    return [''.join(char for char in string if char.isdigit()) for string in data]\n",
    "\n",
    "# Example usage\n",
    "my_list = [\"hello\", \"123\", \"world!\", \"456\", \"bye\"]\n",
    "numeric_list = remove_non_numeric(my_list)\n",
    "print(f\"Original list: {my_list}, Numeric list: {numeric_list}\")"
   ]
  },
  {
   "cell_type": "markdown",
   "metadata": {},
   "source": [
    " \n",
    "\n",
    "Challenge Level:"
   ]
  },
  {
   "cell_type": "markdown",
   "metadata": {},
   "source": [
    "31. Write a program to generate a list of prime numbers using the Sieve of Eratosthenes algorithm and list \n",
    "comprehension."
   ]
  },
  {
   "cell_type": "code",
   "execution_count": 48,
   "metadata": {},
   "outputs": [
    {
     "name": "stdout",
     "output_type": "stream",
     "text": [
      "Prime numbers up to 100: [2, 3, 5, 7, 11, 13, 17, 19, 23, 29, 31, 37, 41, 43, 47, 53, 59, 61, 67, 71, 73, 79, 83, 89, 97]\n"
     ]
    }
   ],
   "source": [
    "def sieve_of_eratosthenes(limit):\n",
    "    # Create a list of booleans (is_prime) initialized to True for all numbers\n",
    "    is_prime = [True] * (limit + 1)\n",
    "    is_prime[0] = False  # 0 and 1 are not prime\n",
    "    is_prime[1] = False\n",
    "\n",
    "    # Sieve: Mark non-primes as False\n",
    "    for p in range(2, int(limit**0.5) + 1):\n",
    "        if is_prime[p]:\n",
    "            for i in range(p * p, limit + 1, p):\n",
    "                is_prime[i] = False\n",
    "    # Return the list of primes based on the is_prime flags\n",
    "    return [i for i, prime in enumerate(is_prime) if prime]\n",
    "\n",
    "# Example usage\n",
    "limit = 100\n",
    "primes = sieve_of_eratosthenes(limit)\n",
    "print(f\"Prime numbers up to {limit}: {primes}\")"
   ]
  },
  {
   "cell_type": "markdown",
   "metadata": {},
   "source": [
    "32. Create a program that generates a list of all Pythagorean triplets up to a specified limit using list \n",
    "comprehension."
   ]
  },
  {
   "cell_type": "code",
   "execution_count": 49,
   "metadata": {},
   "outputs": [
    {
     "name": "stdout",
     "output_type": "stream",
     "text": [
      "Pythagorean triplets up to hypotenuse 50: [(3, 4, 5), (5, 12, 13), (6, 8, 10), (7, 24, 25), (8, 15, 17), (9, 12, 15), (9, 40, 41), (10, 24, 26), (12, 16, 20), (12, 35, 37), (15, 20, 25), (15, 36, 39), (16, 30, 34), (18, 24, 30), (20, 21, 29), (21, 28, 35), (24, 32, 40), (27, 36, 45)]\n"
     ]
    }
   ],
   "source": [
    "def pythagorean_triplets(limit):\n",
    "    return [(a, b, c) for a in range(1, limit) for b in range(a, limit) for c in range(b, limit)\n",
    "            if a**2 + b**2 == c**2]\n",
    "\n",
    "# Example usage\n",
    "limit = 50\n",
    "triplets = pythagorean_triplets(limit)\n",
    "print(f\"Pythagorean triplets up to hypotenuse {limit}: {triplets}\")"
   ]
  },
  {
   "cell_type": "markdown",
   "metadata": {},
   "source": [
    "33. Develop a program that generates a list of all possible combinations of two lists using list comprehension."
   ]
  },
  {
   "cell_type": "code",
   "execution_count": 50,
   "metadata": {},
   "outputs": [
    {
     "name": "stdout",
     "output_type": "stream",
     "text": [
      "Combinations of ['a', 'b'] and [1, 2, 3]: [('a', 1), ('a', 2), ('a', 3), ('b', 1), ('b', 2), ('b', 3)]\n"
     ]
    }
   ],
   "source": [
    "def list_combinations(list1, list2):\n",
    "    return [(x, y) for x in list1 for y in list2]\n",
    "\n",
    "# Example usage\n",
    "list_a = [\"a\", \"b\"]\n",
    "list_b = [1, 2, 3]\n",
    "combinations = list_combinations(list_a, list_b)\n",
    "print(f\"Combinations of {list_a} and {list_b}: {combinations}\")"
   ]
  },
  {
   "cell_type": "markdown",
   "metadata": {},
   "source": [
    "34. Write a program that calculates the mean, median, and mode of a list of numbers using list \n",
    "comprehension."
   ]
  },
  {
   "cell_type": "code",
   "execution_count": 53,
   "metadata": {},
   "outputs": [
    {
     "name": "stdout",
     "output_type": "stream",
     "text": [
      "Mean: 4.00, Median: 4.00, Mode: 5\n"
     ]
    }
   ],
   "source": [
    "from statistics import mode  # Import mode function from statistics module\n",
    "\n",
    "def calculate_stats(data):\n",
    "    if not data:  # Handle empty list case\n",
    "        return None, None, None\n",
    "\n",
    "    mean = sum(data) / len(data)\n",
    "    data.sort()  # Sort the list for efficient median and mode calculations\n",
    "    median = data[len(data) // 2] if len(data) % 2 == 1 else (data[len(data) // 2 - 1] + data[len(data) // 2]) / 2\n",
    "    try:\n",
    "        mode_counts = [data.count(x) for x in data]  # Count occurrences of each element\n",
    "        mode = data[mode_counts.index(max(mode_counts))]  # Find the most frequent element\n",
    "    except ValueError:  # Handle case where all elements have the same count (no mode)\n",
    "        mode = None\n",
    "\n",
    "    return mean, median, mode\n",
    "\n",
    "# Example usage\n",
    "numbers = [5, 2, 8, 3, 5, 1]\n",
    "mean, median, mode = calculate_stats(numbers)\n",
    "print(f\"Mean: {mean:.2f}, Median: {median:.2f}, Mode: {mode}\")"
   ]
  },
  {
   "cell_type": "markdown",
   "metadata": {},
   "source": [
    "35. Create a program that generates Pascal's triangle up to a specified number of rows using list \n",
    "comprehension."
   ]
  },
  {
   "cell_type": "code",
   "execution_count": 54,
   "metadata": {},
   "outputs": [
    {
     "name": "stdout",
     "output_type": "stream",
     "text": [
      "[1]\n",
      "[1, 1]\n",
      "[1, 2, 1]\n",
      "[1, 3, 3, 1]\n",
      "[1, 4, 6, 4, 1]\n"
     ]
    }
   ],
   "source": [
    "def pascal_triangle(rows):\n",
    "    triangle = [[1]]  # Initialize with the first row (1)\n",
    "    for i in range(1, rows):\n",
    "        # Efficiently build each row using previous row's elements\n",
    "        row = [1] + [triangle[i - 1][j] + triangle[i - 1][j + 1] for j in range(len(triangle[i - 1]) - 1)] + [1]\n",
    "        triangle.append(row)\n",
    "    return triangle\n",
    "\n",
    "# Example usage\n",
    "num_rows = 5\n",
    "triangle = pascal_triangle(num_rows)\n",
    "for row in triangle:\n",
    "    print(row)"
   ]
  },
  {
   "cell_type": "markdown",
   "metadata": {},
   "source": [
    "36. Develop a program that calculates the sum of the digits of a factorial of numbers from 1 to 5 using list \n",
    "comprehension."
   ]
  },
  {
   "cell_type": "code",
   "execution_count": 55,
   "metadata": {},
   "outputs": [
    {
     "name": "stdout",
     "output_type": "stream",
     "text": [
      "Sum of digits in factorial of 1: 1\n",
      "Sum of digits in factorial of 2: 2\n",
      "Sum of digits in factorial of 3: 6\n",
      "Sum of digits in factorial of 4: 6\n",
      "Sum of digits in factorial of 5: 3\n"
     ]
    }
   ],
   "source": [
    "def factorial_digit_sum(n):\n",
    "    if n < 0:\n",
    "        raise ValueError(\"Factorial is not defined for negative numbers.\")\n",
    "\n",
    "    # Calculate factorial using a loop (alternative to recursion)\n",
    "    factorial = 1\n",
    "    for i in range(2, n + 1):\n",
    "        factorial *= i\n",
    "\n",
    "    # Convert factorial to string and calculate digit sum using list comprehension\n",
    "    digit_sum = sum(int(digit) for digit in str(factorial))\n",
    "    return digit_sum\n",
    "\n",
    "    # Calculate and print digit sums for factorials of 1 to 5\n",
    "for i in range(1, 6):\n",
    "    factorial_sum = factorial_digit_sum(i)\n",
    "    print(f\"Sum of digits in factorial of {i}: {factorial_sum}\")"
   ]
  },
  {
   "cell_type": "markdown",
   "metadata": {},
   "source": [
    "37. Write a program that finds the longest word in a sentence using list comprehension"
   ]
  },
  {
   "cell_type": "code",
   "execution_count": 56,
   "metadata": {},
   "outputs": [
    {
     "name": "stdout",
     "output_type": "stream",
     "text": [
      "Longest word: sentence\n"
     ]
    }
   ],
   "source": [
    "def longest_word(sentence):\n",
    "    # Split the sentence into words and find the word with the maximum length\n",
    "    longest_word = max(sentence.split(), key=len) if sentence else \"\"  # Handle empty sentence\n",
    "    return longest_word\n",
    "\n",
    "# Example usage\n",
    "sentence = \"This is a test sentence to find the longest word\"\n",
    "longest = longest_word(sentence)\n",
    "print(f\"Longest word: {longest}\")"
   ]
  },
  {
   "cell_type": "markdown",
   "metadata": {},
   "source": [
    "38. Create a program that filters a list of strings to include only those with more than three vowels using list \n",
    "comprehension"
   ]
  },
  {
   "cell_type": "code",
   "execution_count": 57,
   "metadata": {},
   "outputs": [
    {
     "name": "stdout",
     "output_type": "stream",
     "text": [
      "Original list: ['hello', 'world', 'beautiful', 'science'], Filtered list: ['beautiful']\n"
     ]
    }
   ],
   "source": [
    "def filter_vowels(text_list):\n",
    "    vowels = \"aeiouAEIOU\"\n",
    "    return [text for text in text_list if sum(char in vowels for char in text) > 3]\n",
    "\n",
    "# Example usage\n",
    "text_data = [\"hello\", \"world\", \"beautiful\", \"science\"]\n",
    "filtered_text = filter_vowels(text_data)\n",
    "print(f\"Original list: {text_data}, Filtered list: {filtered_text}\")"
   ]
  },
  {
   "cell_type": "markdown",
   "metadata": {},
   "source": [
    "39. Develop a program that calculates the sum of the digits of numbers from 1 to 1000 using list \n",
    "comprehension."
   ]
  },
  {
   "cell_type": "code",
   "execution_count": 58,
   "metadata": {},
   "outputs": [
    {
     "name": "stdout",
     "output_type": "stream",
     "text": [
      "Sum of digits from 1 to 1000: 13501\n"
     ]
    }
   ],
   "source": [
    "def digit_sum(start, end):\n",
    "    # Generator expression to create a sequence of numbers\n",
    "    numbers = (num for num in range(start, end + 1))\n",
    "    # List comprehension to extract digits and convert them to integers\n",
    "    digits = [int(digit) for num in numbers for digit in str(num)]\n",
    "    # Calculate the sum of digits\n",
    "    return sum(digits)\n",
    "\n",
    "# Example usage\n",
    "total_sum = digit_sum(1, 1000)\n",
    "print(f\"Sum of digits from 1 to 1000: {total_sum}\")"
   ]
  },
  {
   "cell_type": "markdown",
   "metadata": {},
   "source": [
    "40. Write a program that generates a list of prime palindromic numbers using list comprehension"
   ]
  },
  {
   "cell_type": "code",
   "execution_count": 60,
   "metadata": {},
   "outputs": [
    {
     "name": "stdout",
     "output_type": "stream",
     "text": [
      "Prime palindromic numbers up to 1000: [2, 3, 5, 7, 11, 101, 131, 151, 181, 191, 313, 353, 373, 383, 727, 757, 787, 797, 919, 929]\n"
     ]
    }
   ],
   "source": [
    "def is_prime(num):\n",
    "    if num <= 1:\n",
    "        return False\n",
    "    for i in range(2, int(num**0.5) + 1):\n",
    "        if num % i == 0:\n",
    "            return False\n",
    "    return True\n",
    "\n",
    "def is_palindrome(num):\n",
    "    return str(num) == str(num)[::-1]\n",
    "\n",
    "def prime_palindromes(limit):\n",
    "    return [num for num in range(1, limit + 1) if is_prime(num) and is_palindrome(num)]\n",
    "\n",
    "\n",
    "# Example usage\n",
    "primes = prime_palindromes(1000)\n",
    "print(f\"Prime palindromic numbers up to 1000: {primes}\")\n"
   ]
  },
  {
   "cell_type": "markdown",
   "metadata": {},
   "source": [
    "THE END                \n",
    "Rahul Sarkar"
   ]
  }
 ],
 "metadata": {
  "kernelspec": {
   "display_name": "Python 3",
   "language": "python",
   "name": "python3"
  },
  "language_info": {
   "codemirror_mode": {
    "name": "ipython",
    "version": 3
   },
   "file_extension": ".py",
   "mimetype": "text/x-python",
   "name": "python",
   "nbconvert_exporter": "python",
   "pygments_lexer": "ipython3",
   "version": "3.10.5"
  }
 },
 "nbformat": 4,
 "nbformat_minor": 2
}
